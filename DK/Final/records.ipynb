{
 "cells": [
  {
   "cell_type": "code",
   "execution_count": 2,
   "metadata": {
    "collapsed": false
   },
   "outputs": [],
   "source": [
    "import pandas as pd\n",
    "record = pd.read_csv('draftkings-contest-entry-history.csv')\n",
    "record1 = record[record.Entry_Fee != '$0.00'][['Entry_Fee','Place','Contest_Entries','Places_Paid','Points','Winnings_Non_Ticket']]\n",
    "\n",
    "def tofloat(df,col):\n",
    "    return record1[col].str.replace('$','').map(float)\n",
    "\n",
    "record1.Entry_Fee = tofloat(record1, 'Entry_Fee')\n",
    "record1.Winnings_Non_Ticket = tofloat(record1, 'Winnings_Non_Ticket')\n",
    "record1['ROI'] = (record1['Winnings_Non_Ticket'] - record1['Entry_Fee'])/record1['Entry_Fee'] * 100\n",
    "record1['TOP%'] = record1.Place.map(int)/record1.Contest_Entries.map(int)\n",
    "\n",
    "record1.head()\n",
    "\n",
    "winningavg = record1[record1.Winnings_Non_Ticket != 0]['TOP%'].mean()\n",
    "losingavg = record1[record1.Winnings_Non_Ticket == 0]['TOP%'].mean()\n",
    "totalavg = record1['TOP%'].mean()\n",
    "roi = (record1.Winnings_Non_Ticket.sum() - (record1.Entry_Fee.sum()-3))/(record1.Entry_Fee.sum()-3) * 100"
   ]
  },
  {
   "cell_type": "code",
   "execution_count": 3,
   "metadata": {
    "collapsed": false
   },
   "outputs": [
    {
     "data": {
      "text/html": [
       "<div>\n",
       "<table border=\"1\" class=\"dataframe\">\n",
       "  <thead>\n",
       "    <tr style=\"text-align: right;\">\n",
       "      <th></th>\n",
       "      <th>Entry_Fee</th>\n",
       "      <th>Place</th>\n",
       "      <th>Contest_Entries</th>\n",
       "      <th>Places_Paid</th>\n",
       "      <th>Points</th>\n",
       "      <th>Winnings_Non_Ticket</th>\n",
       "      <th>ROI</th>\n",
       "      <th>TOP%</th>\n",
       "    </tr>\n",
       "  </thead>\n",
       "  <tbody>\n",
       "    <tr>\n",
       "      <th>0</th>\n",
       "      <td>3.0</td>\n",
       "      <td>14</td>\n",
       "      <td>34</td>\n",
       "      <td>15</td>\n",
       "      <td>262.50</td>\n",
       "      <td>6.0</td>\n",
       "      <td>100.0</td>\n",
       "      <td>0.411765</td>\n",
       "    </tr>\n",
       "    <tr>\n",
       "      <th>2</th>\n",
       "      <td>3.0</td>\n",
       "      <td>6</td>\n",
       "      <td>33</td>\n",
       "      <td>15</td>\n",
       "      <td>257.75</td>\n",
       "      <td>6.0</td>\n",
       "      <td>100.0</td>\n",
       "      <td>0.181818</td>\n",
       "    </tr>\n",
       "    <tr>\n",
       "      <th>3</th>\n",
       "      <td>5.0</td>\n",
       "      <td>2</td>\n",
       "      <td>29</td>\n",
       "      <td>15</td>\n",
       "      <td>268.00</td>\n",
       "      <td>10.0</td>\n",
       "      <td>100.0</td>\n",
       "      <td>0.068966</td>\n",
       "    </tr>\n",
       "    <tr>\n",
       "      <th>4</th>\n",
       "      <td>3.0</td>\n",
       "      <td>6</td>\n",
       "      <td>23</td>\n",
       "      <td>10</td>\n",
       "      <td>278.50</td>\n",
       "      <td>6.0</td>\n",
       "      <td>100.0</td>\n",
       "      <td>0.260870</td>\n",
       "    </tr>\n",
       "    <tr>\n",
       "      <th>5</th>\n",
       "      <td>3.0</td>\n",
       "      <td>21</td>\n",
       "      <td>34</td>\n",
       "      <td>15</td>\n",
       "      <td>231.50</td>\n",
       "      <td>0.0</td>\n",
       "      <td>-100.0</td>\n",
       "      <td>0.617647</td>\n",
       "    </tr>\n",
       "    <tr>\n",
       "      <th>6</th>\n",
       "      <td>5.0</td>\n",
       "      <td>23</td>\n",
       "      <td>34</td>\n",
       "      <td>15</td>\n",
       "      <td>231.50</td>\n",
       "      <td>0.0</td>\n",
       "      <td>-100.0</td>\n",
       "      <td>0.676471</td>\n",
       "    </tr>\n",
       "    <tr>\n",
       "      <th>7</th>\n",
       "      <td>5.0</td>\n",
       "      <td>14</td>\n",
       "      <td>34</td>\n",
       "      <td>15</td>\n",
       "      <td>263.00</td>\n",
       "      <td>10.0</td>\n",
       "      <td>100.0</td>\n",
       "      <td>0.411765</td>\n",
       "    </tr>\n",
       "    <tr>\n",
       "      <th>8</th>\n",
       "      <td>3.0</td>\n",
       "      <td>5</td>\n",
       "      <td>34</td>\n",
       "      <td>15</td>\n",
       "      <td>271.75</td>\n",
       "      <td>6.0</td>\n",
       "      <td>100.0</td>\n",
       "      <td>0.147059</td>\n",
       "    </tr>\n",
       "  </tbody>\n",
       "</table>\n",
       "</div>"
      ],
      "text/plain": [
       "   Entry_Fee  Place  Contest_Entries  Places_Paid  Points  \\\n",
       "0        3.0     14               34           15  262.50   \n",
       "2        3.0      6               33           15  257.75   \n",
       "3        5.0      2               29           15  268.00   \n",
       "4        3.0      6               23           10  278.50   \n",
       "5        3.0     21               34           15  231.50   \n",
       "6        5.0     23               34           15  231.50   \n",
       "7        5.0     14               34           15  263.00   \n",
       "8        3.0      5               34           15  271.75   \n",
       "\n",
       "   Winnings_Non_Ticket    ROI      TOP%  \n",
       "0                  6.0  100.0  0.411765  \n",
       "2                  6.0  100.0  0.181818  \n",
       "3                 10.0  100.0  0.068966  \n",
       "4                  6.0  100.0  0.260870  \n",
       "5                  0.0 -100.0  0.617647  \n",
       "6                  0.0 -100.0  0.676471  \n",
       "7                 10.0  100.0  0.411765  \n",
       "8                  6.0  100.0  0.147059  "
      ]
     },
     "execution_count": 3,
     "metadata": {},
     "output_type": "execute_result"
    }
   ],
   "source": [
    "record1"
   ]
  },
  {
   "cell_type": "code",
   "execution_count": 4,
   "metadata": {
    "collapsed": false
   },
   "outputs": [
    {
     "data": {
      "text/plain": [
       "62.96296296296296"
      ]
     },
     "execution_count": 4,
     "metadata": {},
     "output_type": "execute_result"
    }
   ],
   "source": [
    "roi\n"
   ]
  },
  {
   "cell_type": "code",
   "execution_count": null,
   "metadata": {
    "collapsed": true
   },
   "outputs": [],
   "source": []
  }
 ],
 "metadata": {
  "kernelspec": {
   "display_name": "Python [default]",
   "language": "python",
   "name": "python2"
  },
  "language_info": {
   "codemirror_mode": {
    "name": "ipython",
    "version": 2
   },
   "file_extension": ".py",
   "mimetype": "text/x-python",
   "name": "python",
   "nbconvert_exporter": "python",
   "pygments_lexer": "ipython2",
   "version": "2.7.12"
  }
 },
 "nbformat": 4,
 "nbformat_minor": 1
}
